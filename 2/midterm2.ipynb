{
 "cells": [
  {
   "cell_type": "markdown",
   "metadata": {},
   "source": [
    "# Marco Lavorini   -  Assignment 3"
   ]
  },
  {
   "cell_type": "code",
   "execution_count": 430,
   "metadata": {},
   "outputs": [
    {
     "name": "stdout",
     "output_type": "stream",
     "text": [
      "[5 0 4 ... 5 6 8]\n"
     ]
    }
   ],
   "source": [
    "import idx2numpy\n",
    "import numpy as np\n",
    "from matplotlib import pyplot as plt\n",
    "import os\n",
    "\n",
    "\n",
    "\n",
    "def read_idx(filename):\n",
    "    array = idx2numpy.convert_from_file(filename)\n",
    "    return array\n",
    "\n",
    "files = [\"train-images.idx3-ubyte\", \"train-labels.idx1-ubyte\", \"t10k-images.idx3-ubyte\", \"t10k-labels.idx1-ubyte\"]\n",
    "\n",
    "x_train = read_idx(os.path.join(\"..\", \"datasets\", \"mnist\", files[0]))\n",
    "y_train = read_idx(os.path.join(\"..\", \"datasets\", \"mnist\", files[1]))\n",
    "x_test = read_idx(os.path.join(\"..\", \"datasets\", \"mnist\", files[2]))\n",
    "y_test = read_idx(os.path.join(\"..\", \"datasets\", \"mnist\", files[3]))\n",
    "\n",
    "print(y_train)\n"
   ]
  },
  {
   "cell_type": "code",
   "execution_count": 440,
   "metadata": {},
   "outputs": [],
   "source": [
    "x_train_b = np.where(x_train > 0, 1, 0)\n",
    "x_test_b = np.where(x_test > 0, 1, 0)\n",
    "\n",
    "x_train_b = x_train/255\n",
    "x_test_b = x_test/255\n"
   ]
  },
  {
   "cell_type": "code",
   "execution_count": 441,
   "metadata": {},
   "outputs": [
    {
     "data": {
      "image/png": "[encoded data removed]",
      "text/plain": [
       "<Figure size 640x480 with 1 Axes>"
      ]
     },
     "metadata": {},
     "output_type": "display_data"
    }
   ],
   "source": [
    "#print first element in data using matplot lib\n",
    "plt.imshow(x_train_b[186], cmap='gray')\n",
    "plt.show()"
   ]
  },
  {
   "cell_type": "markdown",
   "metadata": {},
   "source": [
    "# Sigmoid function"
   ]
  },
  {
   "cell_type": "code",
   "execution_count": 442,
   "metadata": {},
   "outputs": [],
   "source": [
    "def sigmoid(x):\n",
    "    return 1/(1+np.exp(-x))"
   ]
  },
  {
   "cell_type": "code",
   "execution_count": 473,
   "metadata": {},
   "outputs": [],
   "source": [
    "from tqdm import tqdm\n",
    "\n",
    "class rbm:\n",
    "    def __init__(self, num_visible, num_hidden):\n",
    "        self.h = num_hidden\n",
    "        self.v = num_visible\n",
    "        self.W = np.random.uniform(-0.05, 0.05, (num_visible, num_hidden))\n",
    "        self.bh = np.zeros(num_hidden)\n",
    "        self.bv = np.zeros(num_visible)\n",
    "    \n",
    "    def fit(self, X, epochs=10, lr=0.01, batch_size=10):\n",
    "        print(\"todo\")\n",
    "        \n",
    "\n",
    "        for epoch in tqdm(range(epochs)):\n",
    "            err=[]\n",
    "            for data in X:\n",
    "                # wake part\n",
    "                #print('wake')\n",
    "                pos_def_P = sigmoid(np.dot(data.T, self.W) + self.bh)\n",
    "\n",
    "                #print(f'pos_def_P shape: {pos_def_P.shape}')\n",
    "                #print(f'max pos_def_P: {np.max(pos_def_P)}')\n",
    "                #print(f'max X: {np.max(data)}')\n",
    "                \n",
    "                wake = np.dot(data, pos_def_P)\n",
    "                #print(wake)\n",
    "                #print(f'\\n\\n(max wake: {np.max(wake)}\\n\\n')\n",
    "            \n",
    "                #print('dream')\n",
    "                # dream part\n",
    "                pos_hid_S = pos_def_P > np.random.rand(self.h) # stochastic hidden activation\n",
    "                recon_data_P = sigmoid(np.dot(pos_hid_S, self.W.T) + self.bv) #reconstructed data\n",
    "\n",
    "                recon_data = recon_data_P > np.random.rand(self.v)\n",
    "                neg_hid_P = sigmoid(np.dot(recon_data, self.W) + self.bh)\n",
    "                dream = np.dot(recon_data.T, neg_hid_P)\n",
    "                #print(dream)\n",
    "                #check\n",
    "                err.append(np.sum(data - recon_data)**2)   #check  \n",
    "            \n",
    "\n",
    "                deltaW = (wake - dream)\n",
    "                deltaBh = (np.sum(pos_def_P) - np.sum(neg_hid_P))\n",
    "                deltaBv = (np.sum(data) - np.sum(recon_data))\n",
    "                self.W += lr * deltaW\n",
    "                self.bh += lr * deltaBh\n",
    "                self.bv += lr * deltaBv\n",
    "            #print(f'epoch: {epoch}, err: {np.mean(err)}, len err: {len(err)}')\n",
    "\n",
    "    def reconstruct(self, X):\n",
    "        hidden = sigmoid(np.dot(X.T, self.W) + self.bh)\n",
    "        reconstructed = sigmoid(np.dot(hidden, self.W.T) + self.bv)\n",
    "        return reconstructed"
   ]
  },
  {
   "cell_type": "markdown",
   "metadata": {},
   "source": [
    "# valutare di samplare su distribuzioni gausssiane per vl aleatoria non binaria "
   ]
  },
  {
   "cell_type": "markdown",
   "metadata": {},
   "source": [
    "# valutare cd_k"
   ]
  },
  {
   "cell_type": "code",
   "execution_count": 468,
   "metadata": {},
   "outputs": [
    {
     "name": "stdout",
     "output_type": "stream",
     "text": [
      "(60000, 28, 28)\n",
      "(28, 28)\n",
      "(784,)\n"
     ]
    }
   ],
   "source": [
    "print(x_train.shape)\n",
    "print(x_train[0].shape)\n",
    "print(x_train[0].flatten().shape)"
   ]
  },
  {
   "cell_type": "code",
   "execution_count": 469,
   "metadata": {},
   "outputs": [
    {
     "name": "stdout",
     "output_type": "stream",
     "text": [
      "(60000, 784, 1)\n",
      "(60000,)\n"
     ]
    }
   ],
   "source": [
    "\n",
    "x_train_flattened = x_train_b.reshape(x_train_b.shape[0], -1, 1)\n",
    "print(x_train_flattened.shape)\n",
    "print(y_train.shape)"
   ]
  },
  {
   "cell_type": "code",
   "execution_count": 470,
   "metadata": {},
   "outputs": [
    {
     "name": "stdout",
     "output_type": "stream",
     "text": [
      "max: 1.0\n"
     ]
    }
   ],
   "source": [
    "print(f'max: {np.max(x_train_flattened[0])}')"
   ]
  },
  {
   "cell_type": "code",
   "execution_count": 520,
   "metadata": {},
   "outputs": [
    {
     "name": "stdout",
     "output_type": "stream",
     "text": [
      "v = 784\n",
      "h = 512\n"
     ]
    }
   ],
   "source": [
    "net = rbm(x_train_flattened.shape[1], 512)\n",
    "print(f'v = {net.v}')\n",
    "print(f'h = {net.h}')"
   ]
  },
  {
   "cell_type": "code",
   "execution_count": 521,
   "metadata": {},
   "outputs": [
    {
     "name": "stdout",
     "output_type": "stream",
     "text": [
      "todo\n"
     ]
    },
    {
     "name": "stderr",
     "output_type": "stream",
     "text": [
      "100%|██████████| 25/25 [02:19<00:00,  5.60s/it]\n"
     ]
    }
   ],
   "source": [
    "net.fit(x_train_flattened[:500], epochs=25, lr=0.01, batch_size=500)"
   ]
  },
  {
   "cell_type": "code",
   "execution_count": 480,
   "metadata": {},
   "outputs": [
    {
     "data": {
      "text/plain": [
       "39308480"
      ]
     },
     "execution_count": 480,
     "metadata": {},
     "output_type": "execute_result"
    }
   ],
   "source": [
    "39308480"
   ]
  },
  {
   "cell_type": "code",
   "execution_count": 522,
   "metadata": {},
   "outputs": [],
   "source": [
    "recon = net.reconstruct(x_train_flattened[4])"
   ]
  },
  {
   "cell_type": "code",
   "execution_count": 527,
   "metadata": {},
   "outputs": [
    {
     "data": {
      "image/png": "[encoded data removed]",
      "text/plain": [
       "<Figure size 640x480 with 2 Axes>"
      ]
     },
     "metadata": {},
     "output_type": "display_data"
    }
   ],
   "source": [
    "img = 1000\n",
    "\n",
    "recon = net.reconstruct(x_train_flattened[img])\n",
    "#plot the original by the side\n",
    "plt.subplot(1, 2, 1)\n",
    "plt.imshow(x_train[img].reshape(28, 28))\n",
    "plt.subplot(1, 2, 2)\n",
    "plt.imshow(recon.reshape(28, 28))\n",
    "\n",
    "plt.show()"
   ]
  }
 ],
 "metadata": {
  "kernelspec": {
   "display_name": ".venv",
   "language": "python",
   "name": "python3"
  },
  "language_info": {
   "codemirror_mode": {
    "name": "ipython",
    "version": 3
   },
   "file_extension": ".py",
   "mimetype": "text/x-python",
   "name": "python",
   "nbconvert_exporter": "python",
   "pygments_lexer": "ipython3",
   "version": "3.10.8"
  }
 },
 "nbformat": 4,
 "nbformat_minor": 2
}
