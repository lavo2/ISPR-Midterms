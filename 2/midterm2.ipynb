{
 "cells": [
  {
   "cell_type": "markdown",
   "metadata": {},
   "source": [
    "# Marco Lavorini   -  Assignment 3"
   ]
  },
  {
   "cell_type": "code",
   "execution_count": 107,
   "metadata": {},
   "outputs": [
    {
     "name": "stdout",
     "output_type": "stream",
     "text": [
      "../datasets/mnist/train-images.idx3-ubyte\n",
      "[5 0 4 ... 5 6 8]\n"
     ]
    }
   ],
   "source": [
    "import idx2numpy\n",
    "import numpy as np\n",
    "from matplotlib import pyplot as plt\n",
    "import os\n",
    "from sklearn.metrics import mean_squared_error\n",
    "from tqdm import tqdm\n",
    "\n",
    "\n",
    "\n",
    "def read_idx(filename):\n",
    "    array = idx2numpy.convert_from_file(filename)\n",
    "    return array\n",
    "\n",
    "files = [\"train-images.idx3-ubyte\", \"train-labels.idx1-ubyte\", \"t10k-images.idx3-ubyte\", \"t10k-labels.idx1-ubyte\"]\n",
    "\n",
    "print(os.path.join(\"..\", \"datasets\", \"mnist\", files[0]))\n",
    "x_train = read_idx(os.path.join(\"..\", \"datasets\", \"mnist\", files[0]))\n",
    "y_train = read_idx(os.path.join(\"..\", \"datasets\", \"mnist\", files[1]))\n",
    "x_test = read_idx(os.path.join(\"..\", \"datasets\", \"mnist\", files[2]))\n",
    "y_test = read_idx(os.path.join(\"..\", \"datasets\", \"mnist\", files[3]))\n",
    "\n",
    "print(y_train)\n",
    "\n",
    "\n",
    "\n"
   ]
  },
  {
   "cell_type": "code",
   "execution_count": 108,
   "metadata": {},
   "outputs": [
    {
     "data": {
      "text/plain": [
       "(10000, 784)"
      ]
     },
     "execution_count": 108,
     "metadata": {},
     "output_type": "execute_result"
    }
   ],
   "source": [
    "x_train_b = np.where(x_train > 0, 1, 0)\n",
    "x_test_b = np.where(x_test > 0, 1, 0)\n",
    "\n",
    "x_train_b = x_train/255\n",
    "x_test_b = x_test/255\n",
    "\n",
    "x_test_flatten = x_test_b.reshape(x_test_b.shape[0], -1)\n",
    "x_test_flatten.shape\n",
    "\n"
   ]
  },
  {
   "cell_type": "code",
   "execution_count": 109,
   "metadata": {},
   "outputs": [
    {
     "data": {
      "image/png": "[encoded data removed]",
      "text/plain": [
       "<Figure size 640x480 with 1 Axes>"
      ]
     },
     "metadata": {},
     "output_type": "display_data"
    }
   ],
   "source": [
    "#print first element in data using matplot lib\n",
    "plt.imshow(x_train_b[186], cmap='gray')\n",
    "plt.show()"
   ]
  },
  {
   "cell_type": "markdown",
   "metadata": {},
   "source": [
    "# Sigmoid function"
   ]
  },
  {
   "cell_type": "code",
   "execution_count": 110,
   "metadata": {},
   "outputs": [],
   "source": [
    "def sigmoid(x):\n",
    "    return 1/(1+np.exp(-x))"
   ]
  },
  {
   "cell_type": "code",
   "execution_count": 111,
   "metadata": {},
   "outputs": [],
   "source": [
    "def mse(net):   \n",
    "    metric = []\n",
    "    for i in range(len(x_test_b[0:3000])):\n",
    "        img = i\n",
    "        original = x_test_flatten[img]\n",
    "        recon = net.reconstruct(original).T\n",
    "        metric.append(mean_squared_error(original, recon))\n",
    "    return np.mean(metric)\n"
   ]
  },
  {
   "cell_type": "code",
   "execution_count": 112,
   "metadata": {},
   "outputs": [],
   "source": [
    "\n",
    "class rbm:\n",
    "    def __init__(self, num_visible, num_hidden):\n",
    "        self.h = num_hidden\n",
    "        self.v = num_visible\n",
    "        self.W = np.random.uniform(-0.05, 0.05, (num_visible, num_hidden))\n",
    "        self.bh = np.zeros(num_hidden)\n",
    "        self.bv = np.zeros(num_visible)\n",
    "    \n",
    "    def fit(self, X, epochs=10, lr=0.01, batch_size=10):\n",
    "        print(\"todo\")\n",
    "        metric = []\n",
    "\n",
    "        for epoch in tqdm(range(epochs)):\n",
    "            err=[]\n",
    "            for data in X:\n",
    "                # wake part\n",
    "                #print('wake')\n",
    "                pos_def_P = sigmoid(np.dot(data.T, self.W) + self.bh)\n",
    "\n",
    "                #print(f'pos_def_P shape: {pos_def_P.shape}')\n",
    "                #print(f'max pos_def_P: {np.max(pos_def_P)}')\n",
    "                #print(f'max X: {np.max(data)}')\n",
    "                \n",
    "                wake = np.dot(data, pos_def_P)\n",
    "                #print(wake)\n",
    "                #print(f'\\n\\n(max wake: {np.max(wake)}\\n\\n')\n",
    "            \n",
    "                #print('dream')\n",
    "                # dream part\n",
    "                pos_hid_S = pos_def_P > np.random.rand(self.h) # stochastic hidden activation\n",
    "                recon_data_P = sigmoid(np.dot(pos_hid_S, self.W.T) + self.bv) #reconstructed data\n",
    "\n",
    "                recon_data = recon_data_P > np.random.rand(self.v)\n",
    "                neg_hid_P = sigmoid(np.dot(recon_data, self.W) + self.bh)\n",
    "                dream = np.dot(recon_data.T, neg_hid_P)\n",
    "                #print(dream)\n",
    "                #check\n",
    "                #err.append(np.sum(data - recon_data)**2)   #check  \n",
    "            \n",
    "\n",
    "                deltaW = (wake - dream)\n",
    "                deltaBh = (np.sum(pos_def_P) - np.sum(neg_hid_P))\n",
    "                deltaBv = (np.sum(data) - np.sum(recon_data))\n",
    "                self.W += lr * deltaW\n",
    "                self.bh += lr * deltaBh\n",
    "                self.bv += lr * deltaBv\n",
    "            #print(f'epoch: {epoch}, err: {np.mean(err)}, len err: {len(err)}')\n",
    "            metric.append(mse(self))\n",
    "                \n",
    "\n",
    "    \n",
    "    def fit_batch(self, data, epochs=10, lr=0.01, batch_size=10):\n",
    "        print(\"todo\")\n",
    "        metric = []\n",
    "        iter = len(data)/batch_size\n",
    "        print(iter)\n",
    "        for epoch in tqdm(range(epochs)):\n",
    "            for i in range(int(iter)):\n",
    "                X = data[i*batch_size:i*batch_size+ batch_size]\n",
    "                # wake part\n",
    "                #print('wake')\n",
    "                pos_def_P = sigmoid(np.dot(X, self.W) + self.bh)\n",
    "\n",
    "                #print(f'pos_def_P shape: {pos_def_P.shape}')\n",
    "                #print(f'max pos_def_P: {np.max(pos_def_P)}')\n",
    "                #print(f'max X: {np.max(data)}')\n",
    "                \n",
    "                wake = np.dot(X.T, pos_def_P)\n",
    "                #print(wake)\n",
    "                #print(f'\\n\\n(max wake: {np.max(wake)}\\n\\n')\n",
    "        \n",
    "                #print('dream')\n",
    "                # dream part\n",
    "                pos_hid_S = pos_def_P > np.random.rand(len(pos_def_P), len(pos_def_P[0])) # stochastic hidden activation\n",
    "                recon_data_P = sigmoid(np.dot(pos_hid_S, self.W.T) + self.bv) #reconstructed data\n",
    "\n",
    "                recon_data = recon_data_P > np.random.rand(len(recon_data_P), len(recon_data_P[0]))\n",
    "                neg_hid_P = sigmoid(np.dot(recon_data, self.W) + self.bh)\n",
    "                dream = np.dot(recon_data.T, neg_hid_P)\n",
    "                #print(dream)\n",
    "\n",
    "                #err = (np.sum(X - recon_data)**2)/len(X)   #check  \n",
    "        \n",
    "\n",
    "                deltaW = (wake - dream)/len(X)\n",
    "                deltaBh = (np.sum(pos_def_P) - np.sum(neg_hid_P))/len(X)\n",
    "                deltaBv = (np.sum(X) - np.sum(recon_data))/len(X)\n",
    "                self.W += lr * deltaW\n",
    "                self.bh += lr * deltaBh\n",
    "                self.bv += lr * deltaBv\n",
    "        #print(f'epoch: {epoch}, err: {np.mean(err)}, len err: {len(err)}')\n",
    "            metric.append(mse(self))\n",
    "        return metric\n",
    "\n",
    "    def reconstruct(self, X):\n",
    "        hidden = sigmoid(np.dot(X.T, self.W) + self.bh)\n",
    "        reconstructed = sigmoid(np.dot(hidden, self.W.T) + self.bv)\n",
    "        return reconstructed"
   ]
  },
  {
   "cell_type": "markdown",
   "metadata": {},
   "source": [
    "# valutare di samplare su distribuzioni gausssiane per vl aleatoria non binaria "
   ]
  },
  {
   "cell_type": "markdown",
   "metadata": {},
   "source": [
    "# valutare cd_k"
   ]
  },
  {
   "cell_type": "code",
   "execution_count": 113,
   "metadata": {},
   "outputs": [
    {
     "name": "stdout",
     "output_type": "stream",
     "text": [
      "(60000, 28, 28)\n",
      "(28, 28)\n",
      "(784,)\n"
     ]
    }
   ],
   "source": [
    "print(x_train.shape)\n",
    "print(x_train[0].shape)\n",
    "print(x_train[0].flatten().shape)"
   ]
  },
  {
   "cell_type": "code",
   "execution_count": 114,
   "metadata": {},
   "outputs": [
    {
     "name": "stdout",
     "output_type": "stream",
     "text": [
      "(60000, 784, 1)\n",
      "(60000,)\n"
     ]
    }
   ],
   "source": [
    "\n",
    "x_train_flattened = x_train_b.reshape(x_train_b.shape[0], -1, 1)\n",
    "print(x_train_flattened.shape)\n",
    "print(y_train.shape)"
   ]
  },
  {
   "cell_type": "code",
   "execution_count": 115,
   "metadata": {},
   "outputs": [
    {
     "name": "stdout",
     "output_type": "stream",
     "text": [
      "v = 784\n",
      "h = 512\n"
     ]
    }
   ],
   "source": [
    "net = rbm(x_train_flattened.shape[1], 512)\n",
    "print(f'v = {net.v}')\n",
    "print(f'h = {net.h}')"
   ]
  },
  {
   "cell_type": "code",
   "execution_count": 16,
   "metadata": {},
   "outputs": [
    {
     "name": "stdout",
     "output_type": "stream",
     "text": [
      "todo\n"
     ]
    },
    {
     "name": "stderr",
     "output_type": "stream",
     "text": [
      "100%|██████████| 30/30 [06:31<00:00, 13.05s/it]\n"
     ]
    }
   ],
   "source": [
    "net.fit(x_train_flattened[:1000], epochs=30, lr=0.01, batch_size=500)"
   ]
  },
  {
   "cell_type": "code",
   "execution_count": 129,
   "metadata": {},
   "outputs": [
    {
     "data": {
      "image/png": "[encoded data removed]",
      "text/plain": [
       "<Figure size 640x480 with 2 Axes>"
      ]
     },
     "metadata": {},
     "output_type": "display_data"
    }
   ],
   "source": [
    "\n",
    "img = 2500\n",
    "original = x_train_flattened[img]\n",
    "recon = net.reconstruct(original)\n",
    "#plot the original by the side\n",
    "plt.subplot(1, 2, 1)\n",
    "plt.imshow(x_train[img].reshape(28, 28))\n",
    "plt.subplot(1, 2, 2)\n",
    "plt.imshow(recon.reshape(28, 28))\n",
    "\n",
    "plt.show()"
   ]
  },
  {
   "cell_type": "code",
   "execution_count": 116,
   "metadata": {},
   "outputs": [
    {
     "name": "stdout",
     "output_type": "stream",
     "text": [
      "v = 784\n",
      "h = 512\n"
     ]
    }
   ],
   "source": [
    "net = rbm(x_train_flattened.shape[1], 512)\n",
    "print(f'v = {net.v}')\n",
    "print(f'h = {net.h}')"
   ]
  },
  {
   "cell_type": "code",
   "execution_count": 117,
   "metadata": {},
   "outputs": [],
   "source": [
    "x_train_b.shape\n",
    "x_train_flattened_batch = x_train_b.reshape(x_train_b.shape[0], -1)"
   ]
  },
  {
   "cell_type": "code",
   "execution_count": 118,
   "metadata": {},
   "outputs": [
    {
     "name": "stdout",
     "output_type": "stream",
     "text": [
      "todo\n",
      "400.0\n"
     ]
    },
    {
     "name": "stderr",
     "output_type": "stream",
     "text": [
      "100%|██████████| 100/100 [16:24<00:00,  9.85s/it]\n"
     ]
    }
   ],
   "source": [
    "losses = net.fit_batch(x_train_flattened_batch[:4000], epochs=100, lr=0.01, batch_size=10)"
   ]
  },
  {
   "cell_type": "code",
   "execution_count": 119,
   "metadata": {},
   "outputs": [
    {
     "data": {
      "image/png": "[encoded data removed]",
      "text/plain": [
       "<Figure size 640x480 with 1 Axes>"
      ]
     },
     "metadata": {},
     "output_type": "display_data"
    }
   ],
   "source": [
    "# plot the losses\n",
    "plt.plot(losses)\n",
    "plt.show()"
   ]
  },
  {
   "cell_type": "code",
   "execution_count": 70,
   "metadata": {},
   "outputs": [
    {
     "data": {
      "image/png": "[encoded data removed]",
      "text/plain": [
       "<Figure size 640x480 with 2 Axes>"
      ]
     },
     "metadata": {},
     "output_type": "display_data"
    }
   ],
   "source": [
    "original = x_train_flattened[img]\n",
    "# threshold the image, 0 if equals to 0 1 otherwhise\n",
    "original_t = np.where(original > 0.09, 1, 0)\n",
    "recon_t = np.where(recon > 0.09, 1, 0)\n",
    "# print the image with matplotlib\n",
    "plt.subplot(1, 2, 1)\n",
    "plt.imshow(original_t.reshape(28, 28))\n",
    "plt.title('original')\n",
    "plt.subplot(1, 2, 2)\n",
    "plt.imshow(recon_t.reshape(28, 28))\n",
    "plt.title('reconstructed')\n",
    "\n",
    "plt.show()\n"
   ]
  },
  {
   "cell_type": "code",
   "execution_count": 72,
   "metadata": {},
   "outputs": [
    {
     "name": "stdout",
     "output_type": "stream",
     "text": [
      "(784, 1) (1, 784)\n"
     ]
    }
   ],
   "source": [
    "print(original_t.shape, recon_t.shape)"
   ]
  },
  {
   "cell_type": "code",
   "execution_count": 73,
   "metadata": {},
   "outputs": [
    {
     "data": {
      "text/plain": [
       "0.8023255813953488"
      ]
     },
     "execution_count": 73,
     "metadata": {},
     "output_type": "execute_result"
    }
   ],
   "source": [
    "# calculate jaccard similarity\n",
    "from sklearn.metrics import jaccard_score\n",
    "jaccard_score(original_t, recon_t.T)\n"
   ]
  },
  {
   "cell_type": "code",
   "execution_count": 86,
   "metadata": {},
   "outputs": [
    {
     "name": "stderr",
     "output_type": "stream",
     "text": [
      "  0%|          | 0/3000 [00:00<?, ?it/s]"
     ]
    },
    {
     "name": "stderr",
     "output_type": "stream",
     "text": [
      "100%|██████████| 3000/3000 [00:03<00:00, 955.37it/s] \n"
     ]
    },
    {
     "data": {
      "text/plain": [
       "0.006853316840794481"
      ]
     },
     "execution_count": 86,
     "metadata": {},
     "output_type": "execute_result"
    }
   ],
   "source": [
    "metric = []\n",
    "for i in tqdm(range(len(x_test_b[0:3000]))):\n",
    "    img = i\n",
    "    original = x_test_flatten[img]\n",
    "    recon = net.reconstruct(original).T\n",
    "    metric.append(mean_squared_error(original, recon))\n",
    "\n",
    "\"\"\"\n",
    "    plt.subplot(1, 2, 1)\n",
    "    plt.imshow(original.reshape(28, 28))\n",
    "    plt.title('original')\n",
    "    plt.subplot(1, 2, 2)\n",
    "    plt.imshow(recon.reshape(28, 28))\n",
    "    plt.title('reconstructed')\n",
    "    metric.append(mean_squared_error(original, recon))\"\"\"\n",
    "\n",
    "np.mean(metric)\n"
   ]
  },
  {
   "cell_type": "code",
   "execution_count": 126,
   "metadata": {},
   "outputs": [
    {
     "name": "stdout",
     "output_type": "stream",
     "text": [
      "341 1753\n"
     ]
    }
   ],
   "source": [
    "max = metric.index(np.max(metric))\n",
    "min = metric.index(np.min(metric))\n",
    "\n",
    "print(max, min)"
   ]
  },
  {
   "cell_type": "code",
   "execution_count": 130,
   "metadata": {},
   "outputs": [
    {
     "data": {
      "image/png": "[encoded data removed]",
      "text/plain": [
       "<Figure size 640x480 with 4 Axes>"
      ]
     },
     "metadata": {},
     "output_type": "display_data"
    }
   ],
   "source": [
    "# plot a 2x2 grid with the original and reconstructed images of both min and max mse\n",
    "plt.subplot(2, 2, 1)\n",
    "plt.imshow(x_test_flatten[max].reshape(28, 28))\n",
    "plt.title('original')\n",
    "plt.subplot(2, 2, 2)\n",
    "plt.imshow(net.reconstruct(x_test_flatten[max]).reshape(28, 28))\n",
    "plt.title('reconstructed')\n",
    "plt.subplot(2, 2, 3)\n",
    "plt.imshow(x_test_flatten[min].reshape(28, 28))\n",
    "plt.title('original')\n",
    "plt.subplot(2, 2, 4)\n",
    "plt.imshow(net.reconstruct(x_test_flatten[min]).reshape(28, 28))\n",
    "plt.title('reconstructed')\n",
    "plt.subplots_adjust(hspace = 0.5)  # Adjust the vertical spacing here\n",
    "\n",
    "plt.show()\n"
   ]
  },
  {
   "cell_type": "code",
   "execution_count": 121,
   "metadata": {},
   "outputs": [
    {
     "data": {
      "text/plain": [
       "0.005182154415231981"
      ]
     },
     "execution_count": 121,
     "metadata": {},
     "output_type": "execute_result"
    }
   ],
   "source": [
    "mean_squared_error(original, recon)"
   ]
  }
 ],
 "metadata": {
  "kernelspec": {
   "display_name": ".venv",
   "language": "python",
   "name": "python3"
  },
  "language_info": {
   "codemirror_mode": {
    "name": "ipython",
    "version": 3
   },
   "file_extension": ".py",
   "mimetype": "text/x-python",
   "name": "python",
   "nbconvert_exporter": "python",
   "pygments_lexer": "ipython3",
   "version": "3.10.13"
  }
 },
 "nbformat": 4,
 "nbformat_minor": 2
}
